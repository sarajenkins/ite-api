{
 "cells": [
  {
   "cell_type": "markdown",
   "id": "prime-sierra",
   "metadata": {},
   "source": [
    "# Run CMGP on Twins dataset"
   ]
  },
  {
   "cell_type": "code",
   "execution_count": 6,
   "id": "medieval-estimate",
   "metadata": {},
   "outputs": [],
   "source": [
    "import numpy as np\n",
    "import pandas as pd\n",
    "from scipy.special import expit\n",
    "import tensorflow as tf\n",
    "from sklearn.model_selection import train_test_split\n",
    "from data.Twins import Twins\n",
    "import itertools\n",
    "import logging\n",
    "# switch to logging.DEBUG to debug model\n",
    "logging.basicConfig(level=logging.INFO)"
   ]
  },
  {
   "cell_type": "markdown",
   "id": "primary-offer",
   "metadata": {},
   "source": [
    "### Data Preprocesssing"
   ]
  },
  {
   "cell_type": "code",
   "execution_count": 7,
   "id": "composite-month",
   "metadata": {},
   "outputs": [],
   "source": [
    "from data.Twins import Twins\n",
    "twins = Twins()\n",
    "num_patients, num_features = twins.X.shape\n",
    "opt_y = twins.one_year_mortality(twins.Y)\n",
    "T = twins.treatment_assignment(twins.X)\n",
    "Y = twins.observable_outcomes(opt_y, T)"
   ]
  },
  {
   "cell_type": "markdown",
   "id": "animal-relief",
   "metadata": {},
   "source": [
    "### Downsample training set to 1000"
   ]
  },
  {
   "cell_type": "code",
   "execution_count": 8,
   "id": "raising-intensity",
   "metadata": {},
   "outputs": [],
   "source": [
    "test_size= 1 - 1000/len(twins.X)\n",
    "train_X, test_X, train_T, test_T, train_Y, test_Y = train_test_split(twins.X, T, Y, test_size=test_size)\n",
    "assert len(train_X) == 1000"
   ]
  },
  {
   "cell_type": "markdown",
   "id": "earned-television",
   "metadata": {},
   "source": [
    "### Train model"
   ]
  },
  {
   "cell_type": "code",
   "execution_count": 9,
   "id": "requested-karma",
   "metadata": {},
   "outputs": [
    {
     "ename": "ModuleNotFoundError",
     "evalue": "No module named 'tqdm'",
     "output_type": "error",
     "traceback": [
      "\u001b[0;31m---------------------------------------------------------------------------\u001b[0m",
      "\u001b[0;31mModuleNotFoundError\u001b[0m                       Traceback (most recent call last)",
      "\u001b[0;32m<ipython-input-9-e965e7e7a2ca>\u001b[0m in \u001b[0;36m<module>\u001b[0;34m\u001b[0m\n\u001b[0;32m----> 1\u001b[0;31m \u001b[0;32mfrom\u001b[0m \u001b[0mapi\u001b[0m \u001b[0;32mimport\u001b[0m \u001b[0mModel\u001b[0m\u001b[0;34m\u001b[0m\u001b[0;34m\u001b[0m\u001b[0m\n\u001b[0m\u001b[1;32m      2\u001b[0m \u001b[0mcmgp\u001b[0m \u001b[0;34m=\u001b[0m \u001b[0mModel\u001b[0m\u001b[0;34m(\u001b[0m\u001b[0;34m'CMGP'\u001b[0m\u001b[0;34m,\u001b[0m \u001b[0mdim\u001b[0m\u001b[0;34m=\u001b[0m\u001b[0mnum_features\u001b[0m\u001b[0;34m)\u001b[0m\u001b[0;34m\u001b[0m\u001b[0;34m\u001b[0m\u001b[0m\n\u001b[1;32m      3\u001b[0m \u001b[0mcmgp\u001b[0m\u001b[0;34m.\u001b[0m\u001b[0mfit\u001b[0m\u001b[0;34m(\u001b[0m\u001b[0mtrain_X\u001b[0m\u001b[0;34m,\u001b[0m \u001b[0mtrain_Y\u001b[0m\u001b[0;34m,\u001b[0m \u001b[0mtrain_T\u001b[0m\u001b[0;34m)\u001b[0m\u001b[0;34m\u001b[0m\u001b[0;34m\u001b[0m\u001b[0m\n",
      "\u001b[0;32m~/Documents/MlforHealth/ite-api/api/__init__.py\u001b[0m in \u001b[0;36m<module>\u001b[0;34m\u001b[0m\n\u001b[0;32m----> 1\u001b[0;31m \u001b[0;32mfrom\u001b[0m \u001b[0;34m.\u001b[0m\u001b[0mmodels\u001b[0m\u001b[0;34m.\u001b[0m\u001b[0mganite\u001b[0m \u001b[0;32mimport\u001b[0m \u001b[0mGANITE\u001b[0m\u001b[0;34m\u001b[0m\u001b[0;34m\u001b[0m\u001b[0m\n\u001b[0m\u001b[1;32m      2\u001b[0m \u001b[0;32mfrom\u001b[0m \u001b[0;34m.\u001b[0m\u001b[0mmodels\u001b[0m\u001b[0;34m.\u001b[0m\u001b[0mcmgp\u001b[0m \u001b[0;32mimport\u001b[0m \u001b[0mCMGP\u001b[0m\u001b[0;34m\u001b[0m\u001b[0;34m\u001b[0m\u001b[0m\n\u001b[1;32m      3\u001b[0m \u001b[0;34m\u001b[0m\u001b[0m\n\u001b[1;32m      4\u001b[0m \u001b[0;34m\u001b[0m\u001b[0m\n\u001b[1;32m      5\u001b[0m \u001b[0;32mclass\u001b[0m \u001b[0mModel\u001b[0m\u001b[0;34m:\u001b[0m\u001b[0;34m\u001b[0m\u001b[0;34m\u001b[0m\u001b[0m\n",
      "\u001b[0;32m~/Documents/MlforHealth/ite-api/api/models/ganite.py\u001b[0m in \u001b[0;36m<module>\u001b[0;34m\u001b[0m\n\u001b[1;32m      8\u001b[0m \u001b[0;32mimport\u001b[0m \u001b[0mtensorflow\u001b[0m \u001b[0;32mas\u001b[0m \u001b[0mtf\u001b[0m\u001b[0;34m\u001b[0m\u001b[0;34m\u001b[0m\u001b[0m\n\u001b[1;32m      9\u001b[0m \u001b[0;32mfrom\u001b[0m \u001b[0mscipy\u001b[0m\u001b[0;34m.\u001b[0m\u001b[0mspecial\u001b[0m \u001b[0;32mimport\u001b[0m \u001b[0mexpit\u001b[0m\u001b[0;34m\u001b[0m\u001b[0;34m\u001b[0m\u001b[0m\n\u001b[0;32m---> 10\u001b[0;31m \u001b[0;32mfrom\u001b[0m \u001b[0mtqdm\u001b[0m \u001b[0;32mimport\u001b[0m \u001b[0mtqdm\u001b[0m\u001b[0;34m\u001b[0m\u001b[0;34m\u001b[0m\u001b[0m\n\u001b[0m\u001b[1;32m     11\u001b[0m \u001b[0;34m\u001b[0m\u001b[0m\n\u001b[1;32m     12\u001b[0m \u001b[0;32mfrom\u001b[0m \u001b[0;34m.\u001b[0m\u001b[0mgan\u001b[0m\u001b[0;34m.\u001b[0m\u001b[0mdiscriminators\u001b[0m \u001b[0;32mimport\u001b[0m \u001b[0mCounterfactualDiscriminator\u001b[0m\u001b[0;34m\u001b[0m\u001b[0;34m\u001b[0m\u001b[0m\n",
      "\u001b[0;31mModuleNotFoundError\u001b[0m: No module named 'tqdm'"
     ]
    }
   ],
   "source": [
    "from api import Model\n",
    "cmgp = Model('CMGP', dim=num_features)\n",
    "cmgp.fit(train_X, train_Y, train_T)"
   ]
  },
  {
   "cell_type": "code",
   "execution_count": null,
   "id": "martial-coupon",
   "metadata": {},
   "outputs": [
    {
     "name": "stdout",
     "output_type": "stream",
     "text": [
      "Collecting tqdm\n",
      "  Downloading tqdm-4.56.2-py2.py3-none-any.whl (72 kB)\n",
      "\u001b[K     |████████████████████████████████| 72 kB 1.2 MB/s eta 0:00:011\n"
     ]
    }
   ],
   "source": [
    "! pip install tqdm"
   ]
  },
  {
   "cell_type": "markdown",
   "id": "desirable-haiti",
   "metadata": {},
   "source": [
    "### Predict outcome on new features"
   ]
  },
  {
   "cell_type": "code",
   "execution_count": null,
   "id": "prime-kenya",
   "metadata": {},
   "outputs": [],
   "source": [
    "result = cmgp.predict(test_X)"
   ]
  },
  {
   "cell_type": "markdown",
   "id": "spread-weapon",
   "metadata": {},
   "source": [
    "### Evaluate with metrics "
   ]
  },
  {
   "cell_type": "code",
   "execution_count": null,
   "id": "divine-cologne",
   "metadata": {},
   "outputs": [],
   "source": [
    "from api.metrics import PEHE\n",
    "cmgp.test(test_X, test_T, PEHE)"
   ]
  },
  {
   "cell_type": "code",
   "execution_count": null,
   "id": "exempt-singles",
   "metadata": {},
   "outputs": [],
   "source": []
  }
 ],
 "metadata": {
  "kernelspec": {
   "display_name": "Python 3",
   "language": "python",
   "name": "python3"
  }
 },
 "nbformat": 4,
 "nbformat_minor": 5
}
