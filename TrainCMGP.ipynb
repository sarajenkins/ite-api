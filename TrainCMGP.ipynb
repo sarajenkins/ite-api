{
 "cells": [
  {
   "cell_type": "markdown",
   "id": "prime-sierra",
   "metadata": {},
   "source": [
    "# Run CMGP on Twins dataset"
   ]
  },
  {
   "cell_type": "code",
   "execution_count": 7,
   "id": "medieval-estimate",
   "metadata": {},
   "outputs": [],
   "source": [
    "import numpy as np\n",
    "import pandas as pd\n",
    "from scipy.special import expit\n",
    "import tensorflow as tf\n",
    "from sklearn.model_selection import train_test_split\n",
    "from data.Twins import Twins\n",
    "import itertools\n",
    "import logging\n",
    "# switch to logging.DEBUG to debug model\n",
    "logging.basicConfig(level=logging.INFO)"
   ]
  },
  {
   "cell_type": "markdown",
   "id": "primary-offer",
   "metadata": {},
   "source": [
    "### Data Preprocesssing"
   ]
  },
  {
   "cell_type": "code",
   "execution_count": 8,
   "id": "composite-month",
   "metadata": {},
   "outputs": [],
   "source": [
    "from data.Twins import Twins\n",
    "twins = Twins()\n",
    "num_patients, num_features = twins.X.shape\n",
    "opt_y = twins.one_year_mortality(twins.Y)\n",
    "T = twins.treatment_assignment(twins.X)\n",
    "Y = twins.observable_outcomes(opt_y, T)"
   ]
  },
  {
   "cell_type": "markdown",
   "id": "animal-relief",
   "metadata": {},
   "source": [
    "### Downsample training set to 1000"
   ]
  },
  {
   "cell_type": "code",
   "execution_count": 9,
   "id": "raising-intensity",
   "metadata": {},
   "outputs": [],
   "source": [
    "test_size= 1 - 1000/len(twins.X)\n",
    "train_X, test_X, train_T, test_T, train_Y, test_Y = train_test_split(twins.X, T, Y, test_size=test_size)\n",
    "assert len(train_X) == 1000"
   ]
  },
  {
   "cell_type": "markdown",
   "id": "earned-television",
   "metadata": {},
   "source": [
    "### Train model"
   ]
  },
  {
   "cell_type": "code",
   "execution_count": 10,
   "id": "requested-karma",
   "metadata": {},
   "outputs": [
    {
     "name": "stderr",
     "output_type": "stream",
     "text": [
      "INFO:GP:initializing Y\n",
      "INFO:GP:initializing inference method\n",
      "INFO:GP:adding kernel and likelihood as parameters\n"
     ]
    }
   ],
   "source": [
    "from api import Model\n",
    "cmgp = Model('CMGP', dim=num_features)\n",
    "cmgp.fit(train_X, train_Y, train_T)"
   ]
  },
  {
   "cell_type": "markdown",
   "id": "desirable-haiti",
   "metadata": {},
   "source": [
    "### Predict outcome on new features"
   ]
  },
  {
   "cell_type": "code",
   "execution_count": null,
   "id": "prime-kenya",
   "metadata": {},
   "outputs": [],
   "source": [
    "result = cmgp.predict(test_X)"
   ]
  },
  {
   "cell_type": "markdown",
   "id": "spread-weapon",
   "metadata": {},
   "source": [
    "### Evaluate with metrics "
   ]
  },
  {
   "cell_type": "code",
   "execution_count": null,
   "id": "divine-cologne",
   "metadata": {},
   "outputs": [],
   "source": [
    "from api.metrics import PEHE\n",
    "cmgp.test(test_X, test_T, PEHE)"
   ]
  },
  {
   "cell_type": "code",
   "execution_count": null,
   "id": "exempt-singles",
   "metadata": {},
   "outputs": [],
   "source": []
  }
 ],
 "metadata": {
  "kernelspec": {
   "display_name": "Python 3",
   "language": "python",
   "name": "python3"
  },
  "language_info": {
   "codemirror_mode": {
    "name": "ipython",
    "version": 3
   },
   "file_extension": ".py",
   "mimetype": "text/x-python",
   "name": "python",
   "nbconvert_exporter": "python",
   "pygments_lexer": "ipython3",
   "version": "3.6.12"
  }
 },
 "nbformat": 4,
 "nbformat_minor": 5
}
