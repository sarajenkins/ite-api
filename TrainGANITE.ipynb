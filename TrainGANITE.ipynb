{
 "cells": [
  {
   "cell_type": "code",
   "execution_count": 2,
   "id": "formed-lincoln",
   "metadata": {},
   "outputs": [],
   "source": [
    "import numpy as np\n",
    "import pandas as pd\n",
    "from scipy.special import expit\n",
    "import tensorflow as tf\n",
    "from sklearn.model_selection import train_test_split\n",
    "from data.Twins import Twins\n",
    "from api.models.ganite import GANITE\n",
    "import itertools\n",
    "import logging\n",
    "# switch to logging.DEBUG to debug model\n",
    "logging.basicConfig(level=logging.INFO)"
   ]
  },
  {
   "cell_type": "code",
   "execution_count": 3,
   "id": "municipal-board",
   "metadata": {},
   "outputs": [],
   "source": [
    "def PEHE(y, hat_y):\n",
    "    e_PEHE = tf.reduce_mean(\n",
    "        tf.squared_difference((y[:, 1] - y[:, 0]),\n",
    "                              (hat_y[:, 1] - hat_y[:, 0])))\n",
    "    return e_PEHE\n",
    "\n",
    "\n",
    "def ATE(y, hat_y):\n",
    "    e_PEHE = tf.abs(\n",
    "        tf.reduce_mean(y[:, 1] - y[:, 0]) -\n",
    "        tf.reduce_mean(hat_y[:, 1] - hat_y[:, 0]))\n",
    "    return e_PEHE"
   ]
  },
  {
   "cell_type": "code",
   "execution_count": 7,
   "id": "comfortable-academy",
   "metadata": {},
   "outputs": [],
   "source": [
    "twins = Twins()\n",
    "num_patients, num_features = twins.X.shape\n",
    "opt_y = twins.one_year_mortality(twins.Y)\n",
    "T = treatment_assignment(twins.X)\n",
    "Y = observable_outcomes(opt_y, T)"
   ]
  },
  {
   "cell_type": "code",
   "execution_count": null,
   "id": "african-klein",
   "metadata": {},
   "outputs": [],
   "source": [
    "# run each algorithm 100 times with different training/validation/testing splits"
   ]
  },
  {
   "cell_type": "code",
   "execution_count": 8,
   "id": "demanding-geometry",
   "metadata": {},
   "outputs": [],
   "source": [
    "# Split data into 56/24/20 train, validation, test\n",
    "train_X, test_X, train_T, test_T, train_Y, test_Y, train_OptY, test_OptY = train_test_split(\n",
    "    twins.X, T, Y, opt_y, test_size=0.2)\n",
    "train_X, validate_X, train_T, validate_T, train_Y, validate_Y, train_OptY, validate_OptY = train_test_split(\n",
    "    train_X, train_T, train_Y, train_OptY, test_size=0.3)\n",
    "\n",
    "dim_outcome = test_OptY.shape[1]"
   ]
  },
  {
   "cell_type": "code",
   "execution_count": 9,
   "id": "military-citizen",
   "metadata": {},
   "outputs": [],
   "source": [
    "# hyperparameters\n",
    "mini_batch_size = {32, 64, 128, 256}\n",
    "alpha = {0, 0.1, 0.5, 1, 2, 5, 10}\n",
    "h_dim = {num_features, np.ceil(num_features/2.), np.ceil(num_features/3.), np.ceil(num_features/4.), np.ceil(num_features/5.)}"
   ]
  },
  {
   "cell_type": "code",
   "execution_count": null,
   "id": "backed-february",
   "metadata": {},
   "outputs": [],
   "source": [
    "# Maybe could using K fold CV search here but with do 56/24/20 split to match paper methodology"
   ]
  },
  {
   "cell_type": "code",
   "execution_count": 10,
   "id": "stable-january",
   "metadata": {
    "scrolled": false
   },
   "outputs": [
    {
     "name": "stdout",
     "output_type": "stream",
     "text": [
      "WARNING:tensorflow:From /Users/sara/Documents/MlforHealth/project/api/models/ganite.py:84: The name tf.reset_default_graph is deprecated. Please use tf.compat.v1.reset_default_graph instead.\n",
      "\n"
     ]
    },
    {
     "name": "stderr",
     "output_type": "stream",
     "text": [
      "WARNING:tensorflow:From /Users/sara/Documents/MlforHealth/project/api/models/ganite.py:84: The name tf.reset_default_graph is deprecated. Please use tf.compat.v1.reset_default_graph instead.\n",
      "\n"
     ]
    },
    {
     "name": "stdout",
     "output_type": "stream",
     "text": [
      "WARNING:tensorflow:From /Users/sara/Documents/MlforHealth/project/api/models/ganite.py:39: The name tf.placeholder is deprecated. Please use tf.compat.v1.placeholder instead.\n",
      "\n"
     ]
    },
    {
     "name": "stderr",
     "output_type": "stream",
     "text": [
      "WARNING:tensorflow:From /Users/sara/Documents/MlforHealth/project/api/models/ganite.py:39: The name tf.placeholder is deprecated. Please use tf.compat.v1.placeholder instead.\n",
      "\n"
     ]
    },
    {
     "name": "stdout",
     "output_type": "stream",
     "text": [
      "WARNING:tensorflow:From /Users/sara/Documents/MlforHealth/project/api/models/gan/base.py:34: The name tf.random_normal is deprecated. Please use tf.random.normal instead.\n",
      "\n"
     ]
    },
    {
     "name": "stderr",
     "output_type": "stream",
     "text": [
      "WARNING:tensorflow:From /Users/sara/Documents/MlforHealth/project/api/models/gan/base.py:34: The name tf.random_normal is deprecated. Please use tf.random.normal instead.\n",
      "\n"
     ]
    },
    {
     "name": "stdout",
     "output_type": "stream",
     "text": [
      "WARNING:tensorflow:From /Users/sara/miniconda3/envs/clair/lib/python3.6/site-packages/tensorflow_core/python/ops/nn_impl.py:183: where (from tensorflow.python.ops.array_ops) is deprecated and will be removed in a future version.\n",
      "Instructions for updating:\n",
      "Use tf.where in 2.0, which has the same broadcast rule as np.where\n"
     ]
    },
    {
     "name": "stderr",
     "output_type": "stream",
     "text": [
      "WARNING:tensorflow:From /Users/sara/miniconda3/envs/clair/lib/python3.6/site-packages/tensorflow_core/python/ops/nn_impl.py:183: where (from tensorflow.python.ops.array_ops) is deprecated and will be removed in a future version.\n",
      "Instructions for updating:\n",
      "Use tf.where in 2.0, which has the same broadcast rule as np.where\n"
     ]
    },
    {
     "name": "stdout",
     "output_type": "stream",
     "text": [
      "WARNING:tensorflow:From /Users/sara/Documents/MlforHealth/project/api/models/gan/generators.py:64: The name tf.losses.mean_squared_error is deprecated. Please use tf.compat.v1.losses.mean_squared_error instead.\n",
      "\n"
     ]
    },
    {
     "name": "stderr",
     "output_type": "stream",
     "text": [
      "WARNING:tensorflow:From /Users/sara/Documents/MlforHealth/project/api/models/gan/generators.py:64: The name tf.losses.mean_squared_error is deprecated. Please use tf.compat.v1.losses.mean_squared_error instead.\n",
      "\n"
     ]
    },
    {
     "name": "stdout",
     "output_type": "stream",
     "text": [
      "WARNING:tensorflow:From /Users/sara/Documents/MlforHealth/project/api/models/gan/generators.py:72: The name tf.train.AdamOptimizer is deprecated. Please use tf.compat.v1.train.AdamOptimizer instead.\n",
      "\n"
     ]
    },
    {
     "name": "stderr",
     "output_type": "stream",
     "text": [
      "WARNING:tensorflow:From /Users/sara/Documents/MlforHealth/project/api/models/gan/generators.py:72: The name tf.train.AdamOptimizer is deprecated. Please use tf.compat.v1.train.AdamOptimizer instead.\n",
      "\n"
     ]
    },
    {
     "name": "stdout",
     "output_type": "stream",
     "text": [
      "WARNING:tensorflow:From /Users/sara/Documents/MlforHealth/project/api/models/ganite.py:91: The name tf.Session is deprecated. Please use tf.compat.v1.Session instead.\n",
      "\n"
     ]
    },
    {
     "name": "stderr",
     "output_type": "stream",
     "text": [
      "WARNING:tensorflow:From /Users/sara/Documents/MlforHealth/project/api/models/ganite.py:91: The name tf.Session is deprecated. Please use tf.compat.v1.Session instead.\n",
      "\n"
     ]
    },
    {
     "name": "stdout",
     "output_type": "stream",
     "text": [
      "WARNING:tensorflow:From /Users/sara/Documents/MlforHealth/project/api/models/ganite.py:92: The name tf.global_variables_initializer is deprecated. Please use tf.compat.v1.global_variables_initializer instead.\n",
      "\n"
     ]
    },
    {
     "name": "stderr",
     "output_type": "stream",
     "text": [
      "WARNING:tensorflow:From /Users/sara/Documents/MlforHealth/project/api/models/ganite.py:92: The name tf.global_variables_initializer is deprecated. Please use tf.compat.v1.global_variables_initializer instead.\n",
      "\n",
      "100%|██████████| 1000/1000 [00:14<00:00, 70.24it/s]\n",
      "100%|██████████| 1000/1000 [00:01<00:00, 676.71it/s]\n",
      "100%|██████████| 1000/1000 [00:13<00:00, 74.29it/s]\n",
      "100%|██████████| 1000/1000 [00:01<00:00, 719.42it/s]\n",
      "100%|██████████| 1000/1000 [00:14<00:00, 71.20it/s]\n",
      "100%|██████████| 1000/1000 [00:01<00:00, 646.61it/s]\n",
      "100%|██████████| 1000/1000 [00:14<00:00, 69.11it/s]\n",
      "100%|██████████| 1000/1000 [00:01<00:00, 675.11it/s]\n",
      "100%|██████████| 1000/1000 [00:14<00:00, 69.82it/s]\n",
      "100%|██████████| 1000/1000 [00:01<00:00, 681.47it/s]\n",
      "100%|██████████| 1000/1000 [00:15<00:00, 64.55it/s]\n",
      "100%|██████████| 1000/1000 [00:01<00:00, 652.97it/s]\n",
      "100%|██████████| 1000/1000 [00:15<00:00, 65.47it/s]\n",
      "100%|██████████| 1000/1000 [00:01<00:00, 656.51it/s]\n",
      "100%|██████████| 1000/1000 [00:16<00:00, 59.30it/s]\n",
      "100%|██████████| 1000/1000 [00:01<00:00, 558.26it/s]\n",
      "100%|██████████| 1000/1000 [00:16<00:00, 60.25it/s]\n",
      "100%|██████████| 1000/1000 [00:01<00:00, 558.14it/s]\n",
      "100%|██████████| 1000/1000 [00:19<00:00, 51.06it/s]\n",
      "100%|██████████| 1000/1000 [00:01<00:00, 561.37it/s]\n",
      "100%|██████████| 1000/1000 [00:13<00:00, 71.56it/s]\n",
      "100%|██████████| 1000/1000 [00:01<00:00, 687.16it/s]\n",
      "100%|██████████| 1000/1000 [00:13<00:00, 75.70it/s]\n",
      "100%|██████████| 1000/1000 [00:01<00:00, 715.35it/s]\n",
      "100%|██████████| 1000/1000 [00:13<00:00, 72.46it/s]\n",
      "100%|██████████| 1000/1000 [00:01<00:00, 674.53it/s]\n",
      "100%|██████████| 1000/1000 [00:14<00:00, 70.07it/s]\n",
      "100%|██████████| 1000/1000 [00:01<00:00, 683.97it/s]\n",
      "100%|██████████| 1000/1000 [00:14<00:00, 67.09it/s]\n",
      "100%|██████████| 1000/1000 [00:01<00:00, 660.27it/s]\n",
      "100%|██████████| 1000/1000 [00:14<00:00, 71.29it/s]\n",
      "100%|██████████| 1000/1000 [00:01<00:00, 672.24it/s]\n",
      "100%|██████████| 1000/1000 [00:13<00:00, 72.33it/s]\n",
      "100%|██████████| 1000/1000 [00:01<00:00, 705.11it/s]\n",
      "100%|██████████| 1000/1000 [00:14<00:00, 69.27it/s]\n",
      "100%|██████████| 1000/1000 [00:01<00:00, 673.46it/s]\n",
      "100%|██████████| 1000/1000 [00:14<00:00, 66.97it/s]\n",
      "100%|██████████| 1000/1000 [00:01<00:00, 656.60it/s]\n",
      "100%|██████████| 1000/1000 [00:15<00:00, 63.66it/s]\n",
      "100%|██████████| 1000/1000 [00:01<00:00, 645.07it/s]\n",
      "100%|██████████| 1000/1000 [00:13<00:00, 75.77it/s]\n",
      "100%|██████████| 1000/1000 [00:01<00:00, 696.90it/s]\n",
      "100%|██████████| 1000/1000 [00:13<00:00, 75.89it/s]\n",
      "100%|██████████| 1000/1000 [00:01<00:00, 730.48it/s]\n",
      "100%|██████████| 1000/1000 [00:13<00:00, 73.95it/s]\n",
      "100%|██████████| 1000/1000 [00:01<00:00, 693.08it/s]\n",
      "100%|██████████| 1000/1000 [00:13<00:00, 72.14it/s]\n",
      "100%|██████████| 1000/1000 [00:01<00:00, 686.34it/s]\n",
      "100%|██████████| 1000/1000 [00:14<00:00, 71.01it/s]\n",
      "100%|██████████| 1000/1000 [00:01<00:00, 695.07it/s]\n",
      "100%|██████████| 1000/1000 [00:14<00:00, 67.64it/s]\n",
      "100%|██████████| 1000/1000 [00:01<00:00, 652.49it/s]\n",
      "100%|██████████| 1000/1000 [00:15<00:00, 66.46it/s]\n",
      "100%|██████████| 1000/1000 [00:01<00:00, 533.64it/s]\n",
      "100%|██████████| 1000/1000 [00:16<00:00, 60.85it/s]\n",
      "100%|██████████| 1000/1000 [00:01<00:00, 585.19it/s]\n",
      "100%|██████████| 1000/1000 [00:19<00:00, 51.33it/s]\n",
      "100%|██████████| 1000/1000 [00:01<00:00, 520.67it/s]\n",
      "100%|██████████| 1000/1000 [00:20<00:00, 49.74it/s]\n",
      "100%|██████████| 1000/1000 [00:02<00:00, 494.45it/s]\n",
      "100%|██████████| 1000/1000 [00:13<00:00, 71.82it/s]\n",
      "100%|██████████| 1000/1000 [00:01<00:00, 600.02it/s]\n",
      "100%|██████████| 1000/1000 [00:14<00:00, 70.27it/s]\n",
      "100%|██████████| 1000/1000 [00:01<00:00, 596.22it/s]\n",
      "100%|██████████| 1000/1000 [00:14<00:00, 68.19it/s]\n",
      "100%|██████████| 1000/1000 [00:01<00:00, 614.24it/s]\n",
      "100%|██████████| 1000/1000 [00:15<00:00, 65.18it/s]\n",
      "100%|██████████| 1000/1000 [00:01<00:00, 657.86it/s]\n",
      "100%|██████████| 1000/1000 [00:15<00:00, 63.32it/s]\n",
      "100%|██████████| 1000/1000 [00:01<00:00, 603.27it/s]\n",
      "100%|██████████| 1000/1000 [00:14<00:00, 68.63it/s]\n",
      "100%|██████████| 1000/1000 [00:01<00:00, 661.29it/s]\n",
      "100%|██████████| 1000/1000 [00:14<00:00, 70.36it/s]\n",
      "100%|██████████| 1000/1000 [00:01<00:00, 666.57it/s]\n",
      "100%|██████████| 1000/1000 [00:14<00:00, 67.42it/s]\n",
      "100%|██████████| 1000/1000 [00:01<00:00, 629.59it/s]\n",
      "100%|██████████| 1000/1000 [00:15<00:00, 65.07it/s]\n",
      "100%|██████████| 1000/1000 [00:01<00:00, 623.45it/s]\n",
      "100%|██████████| 1000/1000 [00:15<00:00, 62.78it/s]\n",
      "100%|██████████| 1000/1000 [00:01<00:00, 629.43it/s]\n",
      "100%|██████████| 1000/1000 [00:13<00:00, 72.19it/s]\n",
      "100%|██████████| 1000/1000 [00:01<00:00, 698.83it/s]\n",
      "100%|██████████| 1000/1000 [00:13<00:00, 75.73it/s]\n",
      "100%|██████████| 1000/1000 [00:01<00:00, 693.38it/s]\n",
      "100%|██████████| 1000/1000 [00:14<00:00, 69.72it/s]\n",
      "100%|██████████| 1000/1000 [00:01<00:00, 616.57it/s]\n",
      "100%|██████████| 1000/1000 [00:14<00:00, 67.88it/s]\n",
      "100%|██████████| 1000/1000 [00:01<00:00, 617.45it/s]\n",
      "100%|██████████| 1000/1000 [00:14<00:00, 66.68it/s]\n",
      "100%|██████████| 1000/1000 [00:01<00:00, 597.32it/s]\n",
      "100%|██████████| 1000/1000 [00:15<00:00, 63.30it/s]\n",
      "100%|██████████| 1000/1000 [00:01<00:00, 634.56it/s]\n",
      "100%|██████████| 1000/1000 [00:14<00:00, 66.87it/s]\n",
      "100%|██████████| 1000/1000 [00:01<00:00, 656.79it/s]\n",
      "100%|██████████| 1000/1000 [00:15<00:00, 62.79it/s]\n",
      "100%|██████████| 1000/1000 [00:01<00:00, 645.20it/s]\n",
      "100%|██████████| 1000/1000 [00:16<00:00, 59.26it/s]\n",
      "100%|██████████| 1000/1000 [00:01<00:00, 593.07it/s]\n",
      "100%|██████████| 1000/1000 [00:19<00:00, 50.24it/s]\n",
      "100%|██████████| 1000/1000 [00:02<00:00, 487.22it/s]\n",
      "100%|██████████| 1000/1000 [00:13<00:00, 73.10it/s]\n",
      "100%|██████████| 1000/1000 [00:01<00:00, 686.93it/s]\n",
      "100%|██████████| 1000/1000 [00:13<00:00, 73.45it/s]\n",
      "100%|██████████| 1000/1000 [00:01<00:00, 688.39it/s]\n",
      "100%|██████████| 1000/1000 [00:15<00:00, 63.97it/s]\n",
      "100%|██████████| 1000/1000 [00:01<00:00, 590.46it/s]\n",
      "100%|██████████| 1000/1000 [00:14<00:00, 67.02it/s]\n",
      "100%|██████████| 1000/1000 [00:01<00:00, 657.50it/s]\n",
      "100%|██████████| 1000/1000 [00:14<00:00, 68.14it/s]\n",
      "100%|██████████| 1000/1000 [00:01<00:00, 669.02it/s]\n",
      "100%|██████████| 1000/1000 [00:13<00:00, 71.46it/s]\n",
      "100%|██████████| 1000/1000 [00:01<00:00, 672.47it/s]\n",
      "100%|██████████| 1000/1000 [00:13<00:00, 72.00it/s]\n",
      "100%|██████████| 1000/1000 [00:01<00:00, 701.94it/s]\n",
      "100%|██████████| 1000/1000 [00:14<00:00, 69.58it/s]\n",
      "100%|██████████| 1000/1000 [00:01<00:00, 667.17it/s]\n",
      "100%|██████████| 1000/1000 [00:15<00:00, 62.88it/s]\n",
      "100%|██████████| 1000/1000 [00:01<00:00, 561.71it/s]\n",
      "100%|██████████| 1000/1000 [00:16<00:00, 60.16it/s]\n",
      "100%|██████████| 1000/1000 [00:01<00:00, 595.34it/s]\n",
      "100%|██████████| 1000/1000 [00:14<00:00, 70.91it/s]\n",
      "100%|██████████| 1000/1000 [00:01<00:00, 626.62it/s]\n",
      "100%|██████████| 1000/1000 [00:13<00:00, 76.00it/s]\n",
      "100%|██████████| 1000/1000 [00:01<00:00, 726.24it/s]\n",
      "100%|██████████| 1000/1000 [00:13<00:00, 73.35it/s]\n",
      "100%|██████████| 1000/1000 [00:01<00:00, 689.17it/s]\n",
      "100%|██████████| 1000/1000 [00:13<00:00, 71.67it/s]\n",
      "100%|██████████| 1000/1000 [00:01<00:00, 689.99it/s]\n",
      "100%|██████████| 1000/1000 [00:14<00:00, 70.95it/s]\n",
      "100%|██████████| 1000/1000 [00:01<00:00, 670.68it/s]\n",
      "100%|██████████| 1000/1000 [00:14<00:00, 67.93it/s]\n",
      "100%|██████████| 1000/1000 [00:01<00:00, 653.57it/s]\n",
      "100%|██████████| 1000/1000 [00:14<00:00, 68.89it/s]\n",
      "100%|██████████| 1000/1000 [00:01<00:00, 680.25it/s]\n",
      "100%|██████████| 1000/1000 [00:15<00:00, 65.47it/s]\n",
      "100%|██████████| 1000/1000 [00:01<00:00, 629.54it/s]\n",
      "100%|██████████| 1000/1000 [00:16<00:00, 62.13it/s]\n",
      "100%|██████████| 1000/1000 [00:01<00:00, 621.29it/s]\n",
      "100%|██████████| 1000/1000 [00:18<00:00, 54.95it/s]\n",
      "100%|██████████| 1000/1000 [00:01<00:00, 574.65it/s]\n",
      "100%|██████████| 1000/1000 [00:13<00:00, 74.68it/s]\n",
      "100%|██████████| 1000/1000 [00:01<00:00, 689.09it/s]\n",
      "100%|██████████| 1000/1000 [00:13<00:00, 74.62it/s]\n",
      "100%|██████████| 1000/1000 [00:01<00:00, 721.25it/s]\n",
      "100%|██████████| 1000/1000 [00:13<00:00, 72.21it/s]\n",
      "100%|██████████| 1000/1000 [00:01<00:00, 691.02it/s]\n",
      "100%|██████████| 1000/1000 [00:14<00:00, 70.22it/s]\n",
      "100%|██████████| 1000/1000 [00:01<00:00, 681.70it/s]\n",
      "100%|██████████| 1000/1000 [00:14<00:00, 67.91it/s]\n",
      "100%|██████████| 1000/1000 [00:01<00:00, 612.29it/s]\n",
      "100%|██████████| 1000/1000 [00:13<00:00, 71.99it/s]\n",
      "100%|██████████| 1000/1000 [00:01<00:00, 672.23it/s]\n"
     ]
    },
    {
     "name": "stderr",
     "output_type": "stream",
     "text": [
      "100%|██████████| 1000/1000 [00:13<00:00, 72.37it/s]\n",
      "100%|██████████| 1000/1000 [00:01<00:00, 700.50it/s]\n",
      "100%|██████████| 1000/1000 [00:14<00:00, 69.36it/s]\n",
      "100%|██████████| 1000/1000 [00:01<00:00, 667.01it/s]\n",
      "100%|██████████| 1000/1000 [00:14<00:00, 67.19it/s]\n",
      "100%|██████████| 1000/1000 [00:01<00:00, 657.75it/s]\n",
      "100%|██████████| 1000/1000 [00:15<00:00, 63.30it/s]\n",
      "100%|██████████| 1000/1000 [00:01<00:00, 598.96it/s]\n",
      "100%|██████████| 1000/1000 [00:13<00:00, 75.31it/s]\n",
      "100%|██████████| 1000/1000 [00:01<00:00, 677.81it/s]\n",
      "100%|██████████| 1000/1000 [00:13<00:00, 75.01it/s]\n",
      "100%|██████████| 1000/1000 [00:01<00:00, 699.00it/s]\n",
      "100%|██████████| 1000/1000 [00:14<00:00, 71.14it/s]\n",
      "100%|██████████| 1000/1000 [00:01<00:00, 510.77it/s]\n",
      "100%|██████████| 1000/1000 [00:15<00:00, 65.01it/s]\n",
      "100%|██████████| 1000/1000 [00:01<00:00, 547.56it/s]\n",
      "100%|██████████| 1000/1000 [00:16<00:00, 62.13it/s]\n",
      "100%|██████████| 1000/1000 [00:01<00:00, 599.65it/s]\n",
      "100%|██████████| 1000/1000 [00:15<00:00, 66.01it/s]\n",
      "100%|██████████| 1000/1000 [00:01<00:00, 650.68it/s]\n",
      "100%|██████████| 1000/1000 [00:14<00:00, 68.70it/s]\n",
      "100%|██████████| 1000/1000 [00:01<00:00, 675.86it/s]\n",
      "100%|██████████| 1000/1000 [00:16<00:00, 60.20it/s]\n",
      "100%|██████████| 1000/1000 [00:01<00:00, 532.94it/s]\n",
      "100%|██████████| 1000/1000 [00:19<00:00, 52.27it/s]\n",
      "100%|██████████| 1000/1000 [00:01<00:00, 568.34it/s]\n",
      "100%|██████████| 1000/1000 [00:19<00:00, 50.65it/s]\n",
      "100%|██████████| 1000/1000 [00:02<00:00, 442.43it/s]\n",
      "100%|██████████| 1000/1000 [00:14<00:00, 69.10it/s]\n",
      "100%|██████████| 1000/1000 [00:01<00:00, 648.86it/s]\n",
      "100%|██████████| 1000/1000 [00:13<00:00, 74.48it/s]\n",
      "100%|██████████| 1000/1000 [00:01<00:00, 716.61it/s]\n",
      "100%|██████████| 1000/1000 [00:14<00:00, 70.97it/s]\n",
      "100%|██████████| 1000/1000 [00:01<00:00, 672.84it/s]\n",
      "100%|██████████| 1000/1000 [00:14<00:00, 70.42it/s]\n",
      "100%|██████████| 1000/1000 [00:01<00:00, 685.66it/s]\n",
      "100%|██████████| 1000/1000 [00:14<00:00, 68.50it/s]\n",
      "100%|██████████| 1000/1000 [00:01<00:00, 672.04it/s]\n",
      "100%|██████████| 1000/1000 [00:13<00:00, 72.08it/s]\n",
      "100%|██████████| 1000/1000 [00:01<00:00, 676.08it/s]\n",
      "100%|██████████| 1000/1000 [00:13<00:00, 71.72it/s]\n",
      "100%|██████████| 1000/1000 [00:01<00:00, 683.22it/s]\n",
      "100%|██████████| 1000/1000 [00:14<00:00, 69.37it/s]\n",
      "100%|██████████| 1000/1000 [00:01<00:00, 672.41it/s]\n",
      "100%|██████████| 1000/1000 [00:14<00:00, 67.35it/s]\n",
      "100%|██████████| 1000/1000 [00:01<00:00, 666.39it/s]\n",
      "100%|██████████| 1000/1000 [00:15<00:00, 63.58it/s]\n",
      "100%|██████████| 1000/1000 [00:01<00:00, 624.92it/s]\n",
      "100%|██████████| 1000/1000 [00:13<00:00, 75.53it/s]\n",
      "100%|██████████| 1000/1000 [00:01<00:00, 692.31it/s]\n",
      "100%|██████████| 1000/1000 [00:13<00:00, 71.80it/s]\n",
      "100%|██████████| 1000/1000 [00:01<00:00, 687.32it/s]\n",
      "100%|██████████| 1000/1000 [00:13<00:00, 71.65it/s]\n",
      "100%|██████████| 1000/1000 [00:01<00:00, 681.85it/s]\n",
      "100%|██████████| 1000/1000 [00:13<00:00, 71.82it/s]\n",
      "100%|██████████| 1000/1000 [00:01<00:00, 671.78it/s]\n",
      "100%|██████████| 1000/1000 [00:14<00:00, 70.61it/s]\n",
      "100%|██████████| 1000/1000 [00:01<00:00, 670.85it/s]\n",
      "100%|██████████| 1000/1000 [00:15<00:00, 66.32it/s]\n",
      "100%|██████████| 1000/1000 [00:01<00:00, 645.98it/s]\n",
      "100%|██████████| 1000/1000 [00:14<00:00, 69.37it/s]\n",
      "100%|██████████| 1000/1000 [00:01<00:00, 685.09it/s]\n",
      "100%|██████████| 1000/1000 [00:15<00:00, 65.18it/s]\n",
      "100%|██████████| 1000/1000 [00:01<00:00, 650.46it/s]\n",
      "100%|██████████| 1000/1000 [00:17<00:00, 58.57it/s]\n",
      "100%|██████████| 1000/1000 [00:01<00:00, 586.20it/s]\n",
      "100%|██████████| 1000/1000 [00:18<00:00, 55.08it/s]\n",
      "100%|██████████| 1000/1000 [00:01<00:00, 576.05it/s]\n",
      "100%|██████████| 1000/1000 [00:13<00:00, 74.18it/s]\n",
      "100%|██████████| 1000/1000 [00:01<00:00, 683.25it/s]\n",
      "100%|██████████| 1000/1000 [00:13<00:00, 75.91it/s]\n",
      "100%|██████████| 1000/1000 [00:01<00:00, 712.38it/s]\n",
      "100%|██████████| 1000/1000 [00:13<00:00, 71.62it/s]\n",
      "100%|██████████| 1000/1000 [00:01<00:00, 685.60it/s]\n",
      "100%|██████████| 1000/1000 [00:14<00:00, 70.08it/s]\n",
      "100%|██████████| 1000/1000 [00:01<00:00, 681.74it/s]\n",
      "100%|██████████| 1000/1000 [00:14<00:00, 67.39it/s]\n",
      "100%|██████████| 1000/1000 [00:01<00:00, 654.83it/s]\n",
      "100%|██████████| 1000/1000 [00:13<00:00, 71.59it/s]\n",
      "100%|██████████| 1000/1000 [00:01<00:00, 654.26it/s]\n",
      "100%|██████████| 1000/1000 [00:13<00:00, 71.70it/s]\n",
      "100%|██████████| 1000/1000 [00:01<00:00, 701.69it/s]\n",
      "100%|██████████| 1000/1000 [00:14<00:00, 69.37it/s]\n",
      "100%|██████████| 1000/1000 [00:01<00:00, 666.65it/s]\n",
      "100%|██████████| 1000/1000 [00:14<00:00, 66.96it/s]\n",
      "100%|██████████| 1000/1000 [00:01<00:00, 657.99it/s]\n",
      "100%|██████████| 1000/1000 [00:15<00:00, 63.76it/s]\n",
      "100%|██████████| 1000/1000 [00:01<00:00, 650.02it/s]\n",
      "100%|██████████| 1000/1000 [00:13<00:00, 76.20it/s]\n",
      "100%|██████████| 1000/1000 [00:01<00:00, 682.32it/s]\n",
      "100%|██████████| 1000/1000 [00:13<00:00, 76.25it/s]\n",
      "100%|██████████| 1000/1000 [00:01<00:00, 725.93it/s]\n",
      "100%|██████████| 1000/1000 [00:13<00:00, 72.95it/s]\n",
      "100%|██████████| 1000/1000 [00:01<00:00, 702.09it/s]\n",
      "100%|██████████| 1000/1000 [00:13<00:00, 71.91it/s]\n",
      "100%|██████████| 1000/1000 [00:01<00:00, 686.13it/s]\n",
      "100%|██████████| 1000/1000 [00:14<00:00, 70.94it/s]\n",
      "100%|██████████| 1000/1000 [00:01<00:00, 689.43it/s]\n",
      "100%|██████████| 1000/1000 [00:14<00:00, 67.66it/s]\n",
      "100%|██████████| 1000/1000 [00:01<00:00, 651.24it/s]\n",
      "100%|██████████| 1000/1000 [00:14<00:00, 69.08it/s]\n",
      "100%|██████████| 1000/1000 [00:01<00:00, 682.30it/s]\n",
      "100%|██████████| 1000/1000 [00:15<00:00, 65.21it/s]\n",
      "100%|██████████| 1000/1000 [00:01<00:00, 647.30it/s]\n",
      "100%|██████████| 1000/1000 [00:16<00:00, 61.89it/s]\n",
      "100%|██████████| 1000/1000 [00:01<00:00, 614.41it/s]\n",
      "100%|██████████| 1000/1000 [00:18<00:00, 55.14it/s]\n",
      "100%|██████████| 1000/1000 [00:01<00:00, 566.27it/s]\n",
      "100%|██████████| 1000/1000 [00:13<00:00, 74.61it/s]\n",
      "100%|██████████| 1000/1000 [00:01<00:00, 685.02it/s]\n",
      "100%|██████████| 1000/1000 [00:14<00:00, 71.22it/s]\n",
      "100%|██████████| 1000/1000 [00:01<00:00, 647.35it/s]\n",
      "100%|██████████| 1000/1000 [00:14<00:00, 67.81it/s]\n",
      "100%|██████████| 1000/1000 [00:01<00:00, 645.76it/s]\n",
      "100%|██████████| 1000/1000 [00:15<00:00, 65.21it/s]\n",
      "100%|██████████| 1000/1000 [00:01<00:00, 579.49it/s]\n",
      "100%|██████████| 1000/1000 [00:15<00:00, 64.10it/s]\n",
      "100%|██████████| 1000/1000 [00:01<00:00, 625.79it/s]\n",
      "100%|██████████| 1000/1000 [00:14<00:00, 69.58it/s]\n",
      "100%|██████████| 1000/1000 [00:01<00:00, 646.26it/s]\n",
      "100%|██████████| 1000/1000 [00:14<00:00, 71.26it/s]\n",
      "100%|██████████| 1000/1000 [00:01<00:00, 699.99it/s]\n",
      "100%|██████████| 1000/1000 [00:14<00:00, 67.02it/s]\n",
      "100%|██████████| 1000/1000 [00:01<00:00, 629.49it/s]\n",
      "100%|██████████| 1000/1000 [00:16<00:00, 60.38it/s]\n",
      "100%|██████████| 1000/1000 [00:01<00:00, 587.67it/s]\n",
      "100%|██████████| 1000/1000 [00:16<00:00, 60.85it/s]\n",
      "100%|██████████| 1000/1000 [00:01<00:00, 609.89it/s]\n"
     ]
    }
   ],
   "source": [
    "num_iterations = 1000\n",
    "num_kk = 10\n",
    "results = {}\n",
    "for _alpha, _mini_batch_size, _h_dim in itertools.product(alpha, mini_batch_size, h_dim):\n",
    "    model = GANITE(_alpha, _mini_batch_size, num_iterations, num_kk, int(_h_dim))\n",
    "    model.fit(train_X, train_T, train_Y, dim_outcome)\n",
    "    hat_Y = model.predict(test_X)\n",
    "    pehe = model.test(test_X, test_OptY, metric=PEHE)\n",
    "    results[(_alpha, _mini_batch_size, _h_dim)] = pehe"
   ]
  },
  {
   "cell_type": "code",
   "execution_count": 36,
   "id": "common-mailing",
   "metadata": {},
   "outputs": [
    {
     "name": "stdout",
     "output_type": "stream",
     "text": [
      "(0.1, 256, 10.0)\n"
     ]
    }
   ],
   "source": [
    "for k in results:\n",
    "    if results[k] == min(results.values()):\n",
    "        print(k)"
   ]
  },
  {
   "cell_type": "code",
   "execution_count": 31,
   "id": "enclosed-processing",
   "metadata": {},
   "outputs": [],
   "source": [
    "import json\n",
    "with open('results.json', 'w') as f:\n",
    "    f.write(json.dumps({str(k):str(v) for k,v in results.items()}))"
   ]
  },
  {
   "cell_type": "code",
   "execution_count": 33,
   "id": "assumed-probability",
   "metadata": {},
   "outputs": [
    {
     "data": {
      "text/plain": [
       "0.08407481"
      ]
     },
     "execution_count": 33,
     "metadata": {},
     "output_type": "execute_result"
    }
   ],
   "source": [
    "min(results.values())"
   ]
  },
  {
   "cell_type": "code",
   "execution_count": null,
   "id": "partial-cherry",
   "metadata": {},
   "outputs": [],
   "source": [
    "test_OptY"
   ]
  },
  {
   "cell_type": "code",
   "execution_count": 38,
   "id": "continent-adolescent",
   "metadata": {},
   "outputs": [
    {
     "name": "stderr",
     "output_type": "stream",
     "text": [
      "100%|██████████| 1000/1000 [00:15<00:00, 64.84it/s]\n",
      "100%|██████████| 1000/1000 [00:01<00:00, 641.89it/s]\n"
     ]
    }
   ],
   "source": [
    "model = GANITE(0.1, 256, num_iterations, num_kk, int(10))\n",
    "model.fit(train_X, train_T, train_Y, dim_outcome)\n",
    "hat_Y = model.predict(test_X)\n",
    "pehe = model.test(test_X, test_OptY, metric=PEHE)\n"
   ]
  },
  {
   "cell_type": "code",
   "execution_count": null,
   "id": "ordinary-warren",
   "metadata": {},
   "outputs": [],
   "source": [
    "# CMGP"
   ]
  },
  {
   "cell_type": "code",
   "execution_count": null,
   "id": "photographic-prototype",
   "metadata": {},
   "outputs": [],
   "source": [
    "cmgp = CMGP(dim=30)\n",
    "cmgp.fit(Train_X, Train_Y, Train_T)"
   ]
  },
  {
   "cell_type": "code",
   "execution_count": 51,
   "id": "incident-martin",
   "metadata": {},
   "outputs": [],
   "source": [
    "import GPy\n",
    "dim=30\n",
    "X, Y, W = train_X, train_Y, train_T\n",
    "df = pd.DataFrame(X)\n",
    "df['Y'] = Y\n",
    "df['W'] = W\n",
    "feature_cols = [col for col in df.columns if col not in ['Y', 'W']]\n",
    "X0 = df.loc[df['W'] == 0, feature_cols]\n",
    "y0 = df.loc[df['W'] == 0, ['Y']]\n",
    "X1 = df.loc[df['W'] == 1, feature_cols]\n",
    "y1 = df.loc[df['W'] == 1, ['Y']]\n",
    "\n",
    "K0 = GPy.kern.RBF(dim, ARD=True)\n",
    "K1 = GPy.kern.RBF(dim, ARD=True)"
   ]
  },
  {
   "cell_type": "code",
   "execution_count": null,
   "id": "applicable-purple",
   "metadata": {},
   "outputs": [
    {
     "name": "stderr",
     "output_type": "stream",
     "text": [
      "INFO:GP:initializing Y\n",
      "INFO:GP:initializing inference method\n",
      "INFO:GP:adding kernel and likelihood as parameters\n"
     ]
    }
   ],
   "source": [
    "kernel = GPy.util.multioutput.LCM(input_dim=dim,\n",
    "                                          num_outputs=2,\n",
    "                                          kernels_list=[K0, K1])\n",
    "model = GPy.models.GPCoregionalizedRegression(X_list=[X0, X1],\n",
    "                                                           Y_list=[y0, y1],\n",
    "                                                           kernel=kernel)"
   ]
  },
  {
   "cell_type": "code",
   "execution_count": null,
   "id": "tribal-there",
   "metadata": {},
   "outputs": [],
   "source": []
  }
 ],
 "metadata": {
  "kernelspec": {
   "display_name": "Python 3",
   "language": "python",
   "name": "python3"
  },
  "language_info": {
   "codemirror_mode": {
    "name": "ipython",
    "version": 3
   },
   "file_extension": ".py",
   "mimetype": "text/x-python",
   "name": "python",
   "nbconvert_exporter": "python",
   "pygments_lexer": "ipython3",
   "version": "3.6.12"
  }
 },
 "nbformat": 4,
 "nbformat_minor": 5
}
